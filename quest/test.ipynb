{
 "cells": [
  {
   "cell_type": "code",
   "execution_count": 5,
   "metadata": {},
   "outputs": [],
   "source": [
    "import numpy as np\n",
    "import pandas as pd\n",
    "import psycopg2 as pg\n",
    "from questdb.ingress import Sender"
   ]
  },
  {
   "cell_type": "code",
   "execution_count": 2,
   "metadata": {},
   "outputs": [],
   "source": [
    "with Sender('localhost', 9009) as sender:\n",
    "\n",
    "    for id, temp, hum in zip(list(range(1, 10001)), list(np.random.normal(size=10000)), list(np.random.normal(size=10000))):\n",
    "        sender.row(\n",
    "            'sensors',\n",
    "            symbols={'id': str(id)},\n",
    "            columns={'temperature': temp , 'humidity':hum})\n",
    "        sender.flush()"
   ]
  },
  {
   "cell_type": "code",
   "execution_count": 4,
   "metadata": {},
   "outputs": [],
   "source": [
    "connection = pg.connect(user=\"admin\",\n",
    "                            password=\"quest\",\n",
    "                            host=\"127.0.0.1\",\n",
    "                            port=\"8812\",\n",
    "                            database=\"qdb\",\n",
    "                            options='-c statement_timeout=300000')"
   ]
  },
  {
   "cell_type": "code",
   "execution_count": 7,
   "metadata": {},
   "outputs": [
    {
     "data": {
      "text/html": [
       "<div>\n",
       "<style scoped>\n",
       "    .dataframe tbody tr th:only-of-type {\n",
       "        vertical-align: middle;\n",
       "    }\n",
       "\n",
       "    .dataframe tbody tr th {\n",
       "        vertical-align: top;\n",
       "    }\n",
       "\n",
       "    .dataframe thead th {\n",
       "        text-align: right;\n",
       "    }\n",
       "</style>\n",
       "<table border=\"1\" class=\"dataframe\">\n",
       "  <thead>\n",
       "    <tr style=\"text-align: right;\">\n",
       "      <th></th>\n",
       "      <th>id</th>\n",
       "      <th>temperature</th>\n",
       "      <th>humidity</th>\n",
       "      <th>timestamp</th>\n",
       "    </tr>\n",
       "  </thead>\n",
       "  <tbody>\n",
       "    <tr>\n",
       "      <th>0</th>\n",
       "      <td>1</td>\n",
       "      <td>0.124996</td>\n",
       "      <td>-0.083947</td>\n",
       "      <td>2022-10-10 14:22:11.511191</td>\n",
       "    </tr>\n",
       "    <tr>\n",
       "      <th>1</th>\n",
       "      <td>2</td>\n",
       "      <td>0.322517</td>\n",
       "      <td>0.571596</td>\n",
       "      <td>2022-10-10 14:22:11.513569</td>\n",
       "    </tr>\n",
       "    <tr>\n",
       "      <th>2</th>\n",
       "      <td>3</td>\n",
       "      <td>-0.554790</td>\n",
       "      <td>-0.423297</td>\n",
       "      <td>2022-10-10 14:22:11.513743</td>\n",
       "    </tr>\n",
       "    <tr>\n",
       "      <th>3</th>\n",
       "      <td>4</td>\n",
       "      <td>0.359332</td>\n",
       "      <td>-0.029046</td>\n",
       "      <td>2022-10-10 14:22:11.514020</td>\n",
       "    </tr>\n",
       "    <tr>\n",
       "      <th>4</th>\n",
       "      <td>5</td>\n",
       "      <td>-0.066914</td>\n",
       "      <td>0.188475</td>\n",
       "      <td>2022-10-10 14:22:11.518827</td>\n",
       "    </tr>\n",
       "    <tr>\n",
       "      <th>...</th>\n",
       "      <td>...</td>\n",
       "      <td>...</td>\n",
       "      <td>...</td>\n",
       "      <td>...</td>\n",
       "    </tr>\n",
       "    <tr>\n",
       "      <th>9995</th>\n",
       "      <td>9996</td>\n",
       "      <td>1.628377</td>\n",
       "      <td>0.031897</td>\n",
       "      <td>2022-10-10 14:22:11.930697</td>\n",
       "    </tr>\n",
       "    <tr>\n",
       "      <th>9996</th>\n",
       "      <td>9997</td>\n",
       "      <td>0.411982</td>\n",
       "      <td>-0.045776</td>\n",
       "      <td>2022-10-10 14:22:11.930715</td>\n",
       "    </tr>\n",
       "    <tr>\n",
       "      <th>9997</th>\n",
       "      <td>9998</td>\n",
       "      <td>-0.309799</td>\n",
       "      <td>-1.187557</td>\n",
       "      <td>2022-10-10 14:22:11.930733</td>\n",
       "    </tr>\n",
       "    <tr>\n",
       "      <th>9998</th>\n",
       "      <td>9999</td>\n",
       "      <td>-0.159428</td>\n",
       "      <td>0.331559</td>\n",
       "      <td>2022-10-10 14:22:11.930748</td>\n",
       "    </tr>\n",
       "    <tr>\n",
       "      <th>9999</th>\n",
       "      <td>10000</td>\n",
       "      <td>0.473245</td>\n",
       "      <td>0.638561</td>\n",
       "      <td>2022-10-10 14:22:11.930764</td>\n",
       "    </tr>\n",
       "  </tbody>\n",
       "</table>\n",
       "<p>10000 rows × 4 columns</p>\n",
       "</div>"
      ],
      "text/plain": [
       "         id  temperature  humidity                  timestamp\n",
       "0         1     0.124996 -0.083947 2022-10-10 14:22:11.511191\n",
       "1         2     0.322517  0.571596 2022-10-10 14:22:11.513569\n",
       "2         3    -0.554790 -0.423297 2022-10-10 14:22:11.513743\n",
       "3         4     0.359332 -0.029046 2022-10-10 14:22:11.514020\n",
       "4         5    -0.066914  0.188475 2022-10-10 14:22:11.518827\n",
       "...     ...          ...       ...                        ...\n",
       "9995   9996     1.628377  0.031897 2022-10-10 14:22:11.930697\n",
       "9996   9997     0.411982 -0.045776 2022-10-10 14:22:11.930715\n",
       "9997   9998    -0.309799 -1.187557 2022-10-10 14:22:11.930733\n",
       "9998   9999    -0.159428  0.331559 2022-10-10 14:22:11.930748\n",
       "9999  10000     0.473245  0.638561 2022-10-10 14:22:11.930764\n",
       "\n",
       "[10000 rows x 4 columns]"
      ]
     },
     "execution_count": 7,
     "metadata": {},
     "output_type": "execute_result"
    }
   ],
   "source": [
    "data = pd.read_sql(\"select * from sensors\", connection)\n",
    "data"
   ]
  },
  {
   "cell_type": "code",
   "execution_count": 13,
   "metadata": {},
   "outputs": [
    {
     "ename": "DatabaseError",
     "evalue": "unexpected token: from\nLINE 1: delete from sensors where humidity < 10001  \n               ^\n",
     "output_type": "error",
     "traceback": [
      "\u001b[0;31m---------------------------------------------------------------------------\u001b[0m",
      "\u001b[0;31mDatabaseError\u001b[0m                             Traceback (most recent call last)",
      "\u001b[1;32m/Users/HarrisonHoffman/Desktop/DataScience/sensor_logger_stream/quest/test.ipynb Cell 5'\u001b[0m in \u001b[0;36m<module>\u001b[0;34m\u001b[0m\n\u001b[0;32m----> <a href='vscode-notebook-cell:/Users/HarrisonHoffman/Desktop/DataScience/sensor_logger_stream/quest/test.ipynb#ch0000010?line=0'>1</a>\u001b[0m connection\u001b[39m.\u001b[39;49mcursor()\u001b[39m.\u001b[39;49mexecute(\u001b[39m'''\u001b[39;49m\u001b[39mdelete from sensors where humidity < 10001  \u001b[39;49m\u001b[39m'''\u001b[39;49m)\n",
      "\u001b[0;31mDatabaseError\u001b[0m: unexpected token: from\nLINE 1: delete from sensors where humidity < 10001  \n               ^\n"
     ]
    }
   ],
   "source": [
    "connection.cursor().execute('''delete from sensors where humidity < 10001  ''')"
   ]
  },
  {
   "cell_type": "code",
   "execution_count": null,
   "metadata": {},
   "outputs": [],
   "source": []
  }
 ],
 "metadata": {
  "kernelspec": {
   "display_name": "baseprojects",
   "language": "python",
   "name": "baseprojects"
  },
  "language_info": {
   "codemirror_mode": {
    "name": "ipython",
    "version": 3
   },
   "file_extension": ".py",
   "mimetype": "text/x-python",
   "name": "python",
   "nbconvert_exporter": "python",
   "pygments_lexer": "ipython3",
   "version": "3.9.9"
  },
  "orig_nbformat": 4
 },
 "nbformat": 4,
 "nbformat_minor": 2
}
