{
 "cells": [
  {
   "cell_type": "code",
   "execution_count": 1,
   "metadata": {},
   "outputs": [],
   "source": [
    "import numpy as np\n",
    "import pandas as pd\n",
    "import matplotlib.pyplot as plt\n",
    "import psycopg2 as pg\n",
    "from datetime import datetime\n",
    "from enum import Enum\n",
    "import time\n",
    "%matplotlib inline"
   ]
  },
  {
   "cell_type": "code",
   "execution_count": 2,
   "metadata": {},
   "outputs": [],
   "source": [
    "class SensorName(Enum):\n",
    "\n",
    "    ACC = 'accelerometeruncalibrated'\n",
    "    GYRO = 'gyroscopeuncalibrated'"
   ]
  },
  {
   "cell_type": "code",
   "execution_count": 3,
   "metadata": {},
   "outputs": [],
   "source": [
    "connection = pg.connect(user=\"admin\",\n",
    "                            password=\"quest\",\n",
    "                            host=\"127.0.0.1\",\n",
    "                            port=\"8812\",\n",
    "                            database=\"qdb\",\n",
    "                            options='-c statement_timeout=300000')"
   ]
  },
  {
   "cell_type": "code",
   "execution_count": 50,
   "metadata": {},
   "outputs": [],
   "source": [
    "'''cursor = connection.cursor()\n",
    "\n",
    "#Creating Table Station_Status\n",
    "cursor.execute(\"DROP TABLE IF EXISTS acc\")\n",
    "sql = \"\"\"CREATE TABLE acc (\n",
    "        device_id TEXT,\n",
    "        session_id TEXT,\n",
    "        recorded_timestamp TEXT,\n",
    "        x REAL,\n",
    "        y REAL,\n",
    "        z REAL)\"\"\"\n",
    "\n",
    "cursor.execute(sql)\n",
    "connection.commit()'''\n"
   ]
  },
  {
   "cell_type": "code",
   "execution_count": 4,
   "metadata": {},
   "outputs": [
    {
     "name": "stderr",
     "output_type": "stream",
     "text": [
      "/var/folders/9r/y3yrm7yx2x31dxvgqt8pww3h0000gn/T/ipykernel_4928/709094810.py:12: UserWarning: pandas only supports SQLAlchemy connectable (engine/connection) or database string URI or sqlite3 DBAPI2 connection. Other DBAPI2 objects are not tested. Please consider using SQLAlchemy.\n",
      "  data = pd.read_sql(query, connection)\n"
     ]
    },
    {
     "data": {
      "text/plain": [
       "array(['30d0b4d5-5f4f-4bd3-862f-49e39a81d338',\n",
       "       '86a5b0e3-6e06-40e2-b226-5a72bd39b65b'], dtype=object)"
      ]
     },
     "execution_count": 4,
     "metadata": {},
     "output_type": "execute_result"
    }
   ],
   "source": [
    "query = \"\"\"with tmp as (select device_id,\n",
    "                        recorded_timestamp,\n",
    "                        x,\n",
    "                        y,\n",
    "                        z,\n",
    "                        row_number() over(partition by device_id order by\n",
    "                                        recorded_timestamp desc) as rn\n",
    "                        from acc )\n",
    "\n",
    "                select * from tmp where rn <= 40\"\"\"\n",
    "\n",
    "data = pd.read_sql(query, connection)\n",
    "data['device_id'].unique()"
   ]
  },
  {
   "cell_type": "code",
   "execution_count": 6,
   "metadata": {},
   "outputs": [
    {
     "name": "stderr",
     "output_type": "stream",
     "text": [
      "/var/folders/9r/y3yrm7yx2x31dxvgqt8pww3h0000gn/T/ipykernel_4866/2865897781.py:1: UserWarning: pandas only supports SQLAlchemy connectable (engine/connection) or database string URI or sqlite3 DBAPI2 connection. Other DBAPI2 objects are not tested. Please consider using SQLAlchemy.\n",
      "  data = pd.read_sql(\"select * from acc\", connection)\n"
     ]
    },
    {
     "data": {
      "text/html": [
       "<div>\n",
       "<style scoped>\n",
       "    .dataframe tbody tr th:only-of-type {\n",
       "        vertical-align: middle;\n",
       "    }\n",
       "\n",
       "    .dataframe tbody tr th {\n",
       "        vertical-align: top;\n",
       "    }\n",
       "\n",
       "    .dataframe thead th {\n",
       "        text-align: right;\n",
       "    }\n",
       "</style>\n",
       "<table border=\"1\" class=\"dataframe\">\n",
       "  <thead>\n",
       "    <tr style=\"text-align: right;\">\n",
       "      <th></th>\n",
       "      <th>device_id</th>\n",
       "      <th>session_id</th>\n",
       "      <th>recorded_timestamp</th>\n",
       "      <th>x</th>\n",
       "      <th>y</th>\n",
       "      <th>z</th>\n",
       "    </tr>\n",
       "  </thead>\n",
       "  <tbody>\n",
       "    <tr>\n",
       "      <th>0</th>\n",
       "      <td>86a5b0e3-6e06-40e2-b226-5a72bd39b65b</td>\n",
       "      <td>2680b42b-2dce-47f7-bc20-9e01573ea062</td>\n",
       "      <td>2022-10-15 14:05:09.954855</td>\n",
       "      <td>-0.081</td>\n",
       "      <td>-0.722</td>\n",
       "      <td>-0.697</td>\n",
       "    </tr>\n",
       "    <tr>\n",
       "      <th>1</th>\n",
       "      <td>86a5b0e3-6e06-40e2-b226-5a72bd39b65b</td>\n",
       "      <td>2680b42b-2dce-47f7-bc20-9e01573ea062</td>\n",
       "      <td>2022-10-15 14:05:09.974909</td>\n",
       "      <td>-0.094</td>\n",
       "      <td>-0.718</td>\n",
       "      <td>-0.677</td>\n",
       "    </tr>\n",
       "    <tr>\n",
       "      <th>2</th>\n",
       "      <td>86a5b0e3-6e06-40e2-b226-5a72bd39b65b</td>\n",
       "      <td>2680b42b-2dce-47f7-bc20-9e01573ea062</td>\n",
       "      <td>2022-10-15 14:05:09.994963</td>\n",
       "      <td>-0.103</td>\n",
       "      <td>-0.706</td>\n",
       "      <td>-0.664</td>\n",
       "    </tr>\n",
       "    <tr>\n",
       "      <th>3</th>\n",
       "      <td>86a5b0e3-6e06-40e2-b226-5a72bd39b65b</td>\n",
       "      <td>2680b42b-2dce-47f7-bc20-9e01573ea062</td>\n",
       "      <td>2022-10-15 14:05:10.015016</td>\n",
       "      <td>-0.096</td>\n",
       "      <td>-0.710</td>\n",
       "      <td>-0.670</td>\n",
       "    </tr>\n",
       "    <tr>\n",
       "      <th>4</th>\n",
       "      <td>86a5b0e3-6e06-40e2-b226-5a72bd39b65b</td>\n",
       "      <td>2680b42b-2dce-47f7-bc20-9e01573ea062</td>\n",
       "      <td>2022-10-15 14:05:10.035070</td>\n",
       "      <td>-0.079</td>\n",
       "      <td>-0.718</td>\n",
       "      <td>-0.688</td>\n",
       "    </tr>\n",
       "    <tr>\n",
       "      <th>...</th>\n",
       "      <td>...</td>\n",
       "      <td>...</td>\n",
       "      <td>...</td>\n",
       "      <td>...</td>\n",
       "      <td>...</td>\n",
       "      <td>...</td>\n",
       "    </tr>\n",
       "    <tr>\n",
       "      <th>19901</th>\n",
       "      <td>86a5b0e3-6e06-40e2-b226-5a72bd39b65b</td>\n",
       "      <td>f6c0bb84-161e-4768-827f-6f7f75492f1f</td>\n",
       "      <td>2022-11-20 13:17:46.605716</td>\n",
       "      <td>0.002</td>\n",
       "      <td>-0.005</td>\n",
       "      <td>-0.998</td>\n",
       "    </tr>\n",
       "    <tr>\n",
       "      <th>19902</th>\n",
       "      <td>86a5b0e3-6e06-40e2-b226-5a72bd39b65b</td>\n",
       "      <td>f6c0bb84-161e-4768-827f-6f7f75492f1f</td>\n",
       "      <td>2022-11-20 13:17:46.625772</td>\n",
       "      <td>0.005</td>\n",
       "      <td>-0.004</td>\n",
       "      <td>-0.996</td>\n",
       "    </tr>\n",
       "    <tr>\n",
       "      <th>19903</th>\n",
       "      <td>86a5b0e3-6e06-40e2-b226-5a72bd39b65b</td>\n",
       "      <td>f6c0bb84-161e-4768-827f-6f7f75492f1f</td>\n",
       "      <td>2022-11-20 13:17:46.645827</td>\n",
       "      <td>0.007</td>\n",
       "      <td>-0.001</td>\n",
       "      <td>-0.998</td>\n",
       "    </tr>\n",
       "    <tr>\n",
       "      <th>19904</th>\n",
       "      <td>86a5b0e3-6e06-40e2-b226-5a72bd39b65b</td>\n",
       "      <td>f6c0bb84-161e-4768-827f-6f7f75492f1f</td>\n",
       "      <td>2022-11-20 13:17:46.665882</td>\n",
       "      <td>0.006</td>\n",
       "      <td>0.002</td>\n",
       "      <td>-0.997</td>\n",
       "    </tr>\n",
       "    <tr>\n",
       "      <th>19905</th>\n",
       "      <td>86a5b0e3-6e06-40e2-b226-5a72bd39b65b</td>\n",
       "      <td>f6c0bb84-161e-4768-827f-6f7f75492f1f</td>\n",
       "      <td>2022-11-20 13:17:46.685938</td>\n",
       "      <td>0.005</td>\n",
       "      <td>0.004</td>\n",
       "      <td>-0.997</td>\n",
       "    </tr>\n",
       "  </tbody>\n",
       "</table>\n",
       "<p>19906 rows × 6 columns</p>\n",
       "</div>"
      ],
      "text/plain": [
       "                                  device_id  \\\n",
       "0      86a5b0e3-6e06-40e2-b226-5a72bd39b65b   \n",
       "1      86a5b0e3-6e06-40e2-b226-5a72bd39b65b   \n",
       "2      86a5b0e3-6e06-40e2-b226-5a72bd39b65b   \n",
       "3      86a5b0e3-6e06-40e2-b226-5a72bd39b65b   \n",
       "4      86a5b0e3-6e06-40e2-b226-5a72bd39b65b   \n",
       "...                                     ...   \n",
       "19901  86a5b0e3-6e06-40e2-b226-5a72bd39b65b   \n",
       "19902  86a5b0e3-6e06-40e2-b226-5a72bd39b65b   \n",
       "19903  86a5b0e3-6e06-40e2-b226-5a72bd39b65b   \n",
       "19904  86a5b0e3-6e06-40e2-b226-5a72bd39b65b   \n",
       "19905  86a5b0e3-6e06-40e2-b226-5a72bd39b65b   \n",
       "\n",
       "                                 session_id          recorded_timestamp  \\\n",
       "0      2680b42b-2dce-47f7-bc20-9e01573ea062  2022-10-15 14:05:09.954855   \n",
       "1      2680b42b-2dce-47f7-bc20-9e01573ea062  2022-10-15 14:05:09.974909   \n",
       "2      2680b42b-2dce-47f7-bc20-9e01573ea062  2022-10-15 14:05:09.994963   \n",
       "3      2680b42b-2dce-47f7-bc20-9e01573ea062  2022-10-15 14:05:10.015016   \n",
       "4      2680b42b-2dce-47f7-bc20-9e01573ea062  2022-10-15 14:05:10.035070   \n",
       "...                                     ...                         ...   \n",
       "19901  f6c0bb84-161e-4768-827f-6f7f75492f1f  2022-11-20 13:17:46.605716   \n",
       "19902  f6c0bb84-161e-4768-827f-6f7f75492f1f  2022-11-20 13:17:46.625772   \n",
       "19903  f6c0bb84-161e-4768-827f-6f7f75492f1f  2022-11-20 13:17:46.645827   \n",
       "19904  f6c0bb84-161e-4768-827f-6f7f75492f1f  2022-11-20 13:17:46.665882   \n",
       "19905  f6c0bb84-161e-4768-827f-6f7f75492f1f  2022-11-20 13:17:46.685938   \n",
       "\n",
       "           x      y      z  \n",
       "0     -0.081 -0.722 -0.697  \n",
       "1     -0.094 -0.718 -0.677  \n",
       "2     -0.103 -0.706 -0.664  \n",
       "3     -0.096 -0.710 -0.670  \n",
       "4     -0.079 -0.718 -0.688  \n",
       "...      ...    ...    ...  \n",
       "19901  0.002 -0.005 -0.998  \n",
       "19902  0.005 -0.004 -0.996  \n",
       "19903  0.007 -0.001 -0.998  \n",
       "19904  0.006  0.002 -0.997  \n",
       "19905  0.005  0.004 -0.997  \n",
       "\n",
       "[19906 rows x 6 columns]"
      ]
     },
     "execution_count": 6,
     "metadata": {},
     "output_type": "execute_result"
    }
   ],
   "source": [
    "data = pd.read_sql(\"select * from acc\", connection)\n",
    "data.sort_values('recorded_timestamp')"
   ]
  },
  {
   "cell_type": "code",
   "execution_count": 7,
   "metadata": {},
   "outputs": [
    {
     "data": {
      "image/png": "[encoded data removed]",
      "text/plain": [
       "<Figure size 1000x600 with 1 Axes>"
      ]
     },
     "metadata": {},
     "output_type": "display_data"
    }
   ],
   "source": [
    "fig, ax = plt.subplots(figsize=(10, 6))\n",
    "for axis in ['x','y','z']:\n",
    "\n",
    "    ax.plot(pd.to_datetime(data['recorded_timestamp']), data[axis])"
   ]
  },
  {
   "cell_type": "code",
   "execution_count": 43,
   "metadata": {},
   "outputs": [],
   "source": [
    "connection.cursor().execute('''drop table acc''')"
   ]
  },
  {
   "cell_type": "code",
   "execution_count": 44,
   "metadata": {},
   "outputs": [],
   "source": [
    "connection.close()"
   ]
  },
  {
   "cell_type": "code",
   "execution_count": null,
   "metadata": {},
   "outputs": [],
   "source": []
  }
 ],
 "metadata": {
  "kernelspec": {
   "display_name": "Python 3.9.9 ('nsai')",
   "language": "python",
   "name": "python3"
  },
  "language_info": {
   "codemirror_mode": {
    "name": "ipython",
    "version": 3
   },
   "file_extension": ".py",
   "mimetype": "text/x-python",
   "name": "python",
   "nbconvert_exporter": "python",
   "pygments_lexer": "ipython3",
   "version": "3.9.9"
  },
  "orig_nbformat": 4,
  "vscode": {
   "interpreter": {
    "hash": "6fe4a8d530c156d5c1c299f510bdc232e05e2587f7619a7e4aac0d7622d20d33"
   }
  }
 },
 "nbformat": 4,
 "nbformat_minor": 2
}
