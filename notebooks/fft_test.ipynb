{
 "cells": [
  {
   "cell_type": "code",
   "execution_count": 1,
   "metadata": {},
   "outputs": [],
   "source": [
    "# Questdb config\n",
    "DB_USER='admin'\n",
    "DB_PASSWORD='quest'\n",
    "DB_HOST='localhost'\n",
    "DB_PORT=8812\n",
    "DB_IMP_PORT=9000\n",
    "DB_NAME='qdb'\n",
    "DB_TRIAXIAL_OFFLOAD_TABLE_NAME='device_offload'"
   ]
  },
  {
   "cell_type": "code",
   "execution_count": 2,
   "metadata": {},
   "outputs": [],
   "source": [
    "import pandas as pd\n",
    "import numpy as np\n",
    "import matplotlib.pyplot as plt\n",
    "import psycopg2 as pg\n",
    "from scipy.fft import fft, fftfreq"
   ]
  },
  {
   "cell_type": "code",
   "execution_count": 3,
   "metadata": {},
   "outputs": [],
   "source": [
    "def create_connection(host:str, port:str, user_name:str, password:str, database:str):\n",
    "    \n",
    "    \"\"\"\n",
    "    Create a Postgres database connection\n",
    "\n",
    "    Parameters\n",
    "    ----------\n",
    "    host:str\n",
    "        Database host\n",
    "    port:str\n",
    "        Database port\n",
    "    user_name:str\n",
    "        Database user name\n",
    "    password:str\n",
    "        Database password\n",
    "    database:str\n",
    "        Database name\n",
    "\n",
    "    Returns\n",
    "    -------\n",
    "    A psycopg2 connection object\n",
    "    \"\"\"\n",
    "\n",
    "    return pg.connect(user=user_name,\n",
    "                      password=password,\n",
    "                      host=host,\n",
    "                      port=port,\n",
    "                      database=database,\n",
    "                      options='-c statement_timeout=300000')\n",
    "\n",
    "def get_recent_triaxial_data(connection:pg.connect,\n",
    "                             table_name:str,\n",
    "                             sensor_name:str,\n",
    "                             sample_rate:int,\n",
    "                             num_seconds:float,\n",
    "                             max_lookback_seconds:float):\n",
    "\n",
    "    \"\"\"\n",
    "    Query the most recent data from a triaxial smartphone sensor.\n",
    "\n",
    "    Parameters\n",
    "    ----------\n",
    "    connection:pg.connect\n",
    "        A postgres connection object\n",
    "    table_name:str\n",
    "        The table where the sensor data is stored\n",
    "    sensor_name:str\n",
    "        The name of the sensor to query\n",
    "    sample_rate:int\n",
    "        The sampling rate of the sensor (in hz)\n",
    "    num_seconds:float\n",
    "        The number of seconds of data to pull\n",
    "    max_lookback_seconds:float\n",
    "        The maximum amount seconds to look for data from.\n",
    "        For instance, if a device stopped producing data\n",
    "        10 seconds ago, and max_lookback_seconds = 10,\n",
    "        then data for this device will be ignored.\n",
    "\n",
    "    Returns\n",
    "    -------\n",
    "    A DataFrame with the requested sensor data\n",
    "    \"\"\"\n",
    "\n",
    "    # The number of samples to get\n",
    "    num_samples:int = int(sample_rate*num_seconds)\n",
    "\n",
    "    query:str = f\"\"\"with tmp as (select device_id,\n",
    "                                       recorded_timestamp,\n",
    "                                       x,\n",
    "                                       y,\n",
    "                                       z,\n",
    "                                       row_number() over(partition by device_id order by\n",
    "                                                        recorded_timestamp desc) as rn\n",
    "                                        from {table_name}\n",
    "                                        where sensor_name = '{sensor_name}'\n",
    "                                        and recorded_timestamp::timestamp >= dateadd('s', -{int(max_lookback_seconds)}, now())\n",
    "                               )\n",
    "\n",
    "                              select * from tmp \n",
    "                              where rn <= {num_samples}\n",
    "                              \"\"\"\n",
    "\n",
    "    return pd.read_sql(query, connection)"
   ]
  },
  {
   "cell_type": "code",
   "execution_count": 4,
   "metadata": {},
   "outputs": [],
   "source": [
    "conn = create_connection(DB_HOST,\n",
    "                         DB_PORT,\n",
    "                         DB_USER,\n",
    "                         DB_PASSWORD,\n",
    "                         DB_NAME )"
   ]
  },
  {
   "cell_type": "code",
   "execution_count": 9,
   "metadata": {},
   "outputs": [
    {
     "name": "stderr",
     "output_type": "stream",
     "text": [
      "/var/folders/9r/y3yrm7yx2x31dxvgqt8pww3h0000gn/T/ipykernel_14448/3910681422.py:83: UserWarning: pandas only supports SQLAlchemy connectable (engine/connection) or database string URI or sqlite3 DBAPI2 connection. Other DBAPI2 objects are not tested. Please consider using SQLAlchemy.\n",
      "  return pd.read_sql(query, connection)\n"
     ]
    },
    {
     "name": "stdout",
     "output_type": "stream",
     "text": [
      "(101, 6)\n"
     ]
    },
    {
     "data": {
      "text/html": [
       "<div>\n",
       "<style scoped>\n",
       "    .dataframe tbody tr th:only-of-type {\n",
       "        vertical-align: middle;\n",
       "    }\n",
       "\n",
       "    .dataframe tbody tr th {\n",
       "        vertical-align: top;\n",
       "    }\n",
       "\n",
       "    .dataframe thead th {\n",
       "        text-align: right;\n",
       "    }\n",
       "</style>\n",
       "<table border=\"1\" class=\"dataframe\">\n",
       "  <thead>\n",
       "    <tr style=\"text-align: right;\">\n",
       "      <th></th>\n",
       "      <th>device_id</th>\n",
       "      <th>recorded_timestamp</th>\n",
       "      <th>x</th>\n",
       "      <th>y</th>\n",
       "      <th>z</th>\n",
       "      <th>rn</th>\n",
       "    </tr>\n",
       "  </thead>\n",
       "  <tbody>\n",
       "    <tr>\n",
       "      <th>0</th>\n",
       "      <td>86a5b0e3-6e06-40e2-b226-5a72bd39b65b</td>\n",
       "      <td>2023-02-20 15:08:38.680784</td>\n",
       "      <td>-0.714</td>\n",
       "      <td>-0.370</td>\n",
       "      <td>0.685</td>\n",
       "      <td>100</td>\n",
       "    </tr>\n",
       "    <tr>\n",
       "      <th>1</th>\n",
       "      <td>86a5b0e3-6e06-40e2-b226-5a72bd39b65b</td>\n",
       "      <td>2023-02-20 15:08:38.680884</td>\n",
       "      <td>-0.548</td>\n",
       "      <td>-0.510</td>\n",
       "      <td>-0.032</td>\n",
       "      <td>99</td>\n",
       "    </tr>\n",
       "    <tr>\n",
       "      <th>2</th>\n",
       "      <td>86a5b0e3-6e06-40e2-b226-5a72bd39b65b</td>\n",
       "      <td>2023-02-20 15:08:38.680982</td>\n",
       "      <td>0.020</td>\n",
       "      <td>-0.611</td>\n",
       "      <td>-1.145</td>\n",
       "      <td>98</td>\n",
       "    </tr>\n",
       "    <tr>\n",
       "      <th>3</th>\n",
       "      <td>86a5b0e3-6e06-40e2-b226-5a72bd39b65b</td>\n",
       "      <td>2023-02-20 15:08:38.681078</td>\n",
       "      <td>0.226</td>\n",
       "      <td>-0.429</td>\n",
       "      <td>-1.921</td>\n",
       "      <td>97</td>\n",
       "    </tr>\n",
       "    <tr>\n",
       "      <th>4</th>\n",
       "      <td>86a5b0e3-6e06-40e2-b226-5a72bd39b65b</td>\n",
       "      <td>2023-02-20 15:08:38.681170</td>\n",
       "      <td>0.305</td>\n",
       "      <td>-0.352</td>\n",
       "      <td>-2.048</td>\n",
       "      <td>96</td>\n",
       "    </tr>\n",
       "  </tbody>\n",
       "</table>\n",
       "</div>"
      ],
      "text/plain": [
       "                              device_id          recorded_timestamp      x  \\\n",
       "0  86a5b0e3-6e06-40e2-b226-5a72bd39b65b  2023-02-20 15:08:38.680784 -0.714   \n",
       "1  86a5b0e3-6e06-40e2-b226-5a72bd39b65b  2023-02-20 15:08:38.680884 -0.548   \n",
       "2  86a5b0e3-6e06-40e2-b226-5a72bd39b65b  2023-02-20 15:08:38.680982  0.020   \n",
       "3  86a5b0e3-6e06-40e2-b226-5a72bd39b65b  2023-02-20 15:08:38.681078  0.226   \n",
       "4  86a5b0e3-6e06-40e2-b226-5a72bd39b65b  2023-02-20 15:08:38.681170  0.305   \n",
       "\n",
       "       y      z   rn  \n",
       "0 -0.370  0.685  100  \n",
       "1 -0.510 -0.032   99  \n",
       "2 -0.611 -1.145   98  \n",
       "3 -0.429 -1.921   97  \n",
       "4 -0.352 -2.048   96  "
      ]
     },
     "execution_count": 9,
     "metadata": {},
     "output_type": "execute_result"
    }
   ],
   "source": [
    "acc_data = get_recent_triaxial_data(conn,\n",
    "                                    'device_offload',\n",
    "                                    'acc',\n",
    "                                     50,\n",
    "                                     2,\n",
    "                                     100000000)\n",
    "print(acc_data.shape)\n",
    "acc_data.head()"
   ]
  },
  {
   "cell_type": "code",
   "execution_count": 38,
   "metadata": {},
   "outputs": [
    {
     "name": "stderr",
     "output_type": "stream",
     "text": [
      "/var/folders/9r/y3yrm7yx2x31dxvgqt8pww3h0000gn/T/ipykernel_14448/3910681422.py:83: UserWarning: pandas only supports SQLAlchemy connectable (engine/connection) or database string URI or sqlite3 DBAPI2 connection. Other DBAPI2 objects are not tested. Please consider using SQLAlchemy.\n",
      "  return pd.read_sql(query, connection)\n"
     ]
    },
    {
     "data": {
      "image/png": "[encoded data removed]",
      "text/plain": [
       "<Figure size 1000x600 with 1 Axes>"
      ]
     },
     "metadata": {},
     "output_type": "display_data"
    }
   ],
   "source": [
    "acc_data = get_recent_triaxial_data(conn,\n",
    "                                    'device_offload',\n",
    "                                    'acc',\n",
    "                                     50,\n",
    "                                     2,\n",
    "                                     100000000)\n",
    "\n",
    "acc_data['norm'] = np.sqrt(acc_data['x']**2 + acc_data['y']**2 + acc_data['z']**2)\n",
    "    \n",
    "yf = fft(acc_data['x'].values)\n",
    "xf = fftfreq(len(acc_data), 1/50)[:len(acc_data)//2]\n",
    "\n",
    "fig, ax = plt.subplots(figsize=(10, 6))\n",
    "ax.plot(xf[0:25], np.abs(yf)[:len(acc_data)//2][0:25])\n",
    "plt.show()"
   ]
  },
  {
   "cell_type": "code",
   "execution_count": null,
   "metadata": {},
   "outputs": [],
   "source": []
  }
 ],
 "metadata": {
  "kernelspec": {
   "display_name": "nsai",
   "language": "python",
   "name": "nsai"
  },
  "language_info": {
   "codemirror_mode": {
    "name": "ipython",
    "version": 3
   },
   "file_extension": ".py",
   "mimetype": "text/x-python",
   "name": "python",
   "nbconvert_exporter": "python",
   "pygments_lexer": "ipython3",
   "version": "3.9.9"
  },
  "orig_nbformat": 4
 },
 "nbformat": 4,
 "nbformat_minor": 2
}
